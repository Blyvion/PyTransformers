{
 "cells": [
  {
   "cell_type": "code",
   "execution_count": 1,
   "metadata": {},
   "outputs": [
    {
     "name": "stderr",
     "output_type": "stream",
     "text": [
      "/home/atleserver/Documents/repos/PyTransformers/.venv/lib64/python3.11/site-packages/tqdm/auto.py:21: TqdmWarning: IProgress not found. Please update jupyter and ipywidgets. See https://ipywidgets.readthedocs.io/en/stable/user_install.html\n",
      "  from .autonotebook import tqdm as notebook_tqdm\n"
     ]
    }
   ],
   "source": [
    "import torch\n",
    "import torch.nn as nn\n",
    "import math\n",
    "import numpy as np\n",
    "from tqdm import tqdm\n",
    "from datasets import load_dataset\n",
    "from torch.utils.data import DataLoader, Dataset\n",
    "from transformers import AutoTokenizer\n",
    "from sklearn.metrics import accuracy_score"
   ]
  },
  {
   "cell_type": "code",
   "execution_count": 2,
   "metadata": {},
   "outputs": [],
   "source": [
    "BATCH_SIZE = 32\n",
    "MAX_SEQ_LEN = 256\n",
    "NUM_EPOCHS = 500\n",
    "NUM_OUTPUTS = 5\n",
    "\n",
    "device = torch.device('cuda' if torch.cuda.is_available() else 'cpu')\n",
    "tokenizer = AutoTokenizer.from_pretrained(\"bert-base-uncased\")"
   ]
  },
  {
   "cell_type": "markdown",
   "metadata": {},
   "source": [
    "### Data"
   ]
  },
  {
   "cell_type": "code",
   "execution_count": 3,
   "metadata": {},
   "outputs": [
    {
     "data": {
      "text/plain": [
       "DatasetDict({\n",
       "    train: Dataset({\n",
       "        features: ['label', 'text'],\n",
       "        num_rows: 650000\n",
       "    })\n",
       "    test: Dataset({\n",
       "        features: ['label', 'text'],\n",
       "        num_rows: 50000\n",
       "    })\n",
       "})"
      ]
     },
     "execution_count": 3,
     "metadata": {},
     "output_type": "execute_result"
    }
   ],
   "source": [
    "ds = load_dataset(\"Yelp/yelp_review_full\")\n",
    "ds"
   ]
  },
  {
   "cell_type": "code",
   "execution_count": 4,
   "metadata": {},
   "outputs": [],
   "source": [
    "def collate_fn(batch):\n",
    "\t# batch is a list of dictionaries\n",
    "\ttext = [record['text'] for record in batch]\n",
    "\tlabel = [record['label'] for record in batch]\n",
    "\n",
    "\tinputs = tokenizer(text,\n",
    "\t\t\t\t\t\t  padding = \"max_length\",\n",
    "\t\t\t\t\t\t  truncation = True,\n",
    "\t\t\t\t\t\t  max_length = MAX_SEQ_LEN,\n",
    "\t\t\t\t\t\t  return_tensors = \"pt\")\n",
    "\n",
    "\treturn {'input_ids': inputs['input_ids'], 'attention_mask': torch.log(inputs['attention_mask']), 'label': torch.tensor(label)}\n"
   ]
  },
  {
   "cell_type": "code",
   "execution_count": 5,
   "metadata": {},
   "outputs": [],
   "source": [
    "SPLITS = 100\n",
    "train_dataloader = DataLoader(ds['train'].shard(SPLITS, 0), batch_size=BATCH_SIZE, shuffle=True, collate_fn=collate_fn)\n",
    "test_dataloader = DataLoader(ds['test'].shard(SPLITS, 0), batch_size=BATCH_SIZE, shuffle=True, collate_fn=collate_fn)"
   ]
  },
  {
   "cell_type": "markdown",
   "metadata": {},
   "source": [
    "### Encoder Only Transformer"
   ]
  },
  {
   "cell_type": "code",
   "execution_count": 6,
   "metadata": {},
   "outputs": [],
   "source": [
    "# https://github.com/pytorch/examples/blob/main/word_language_model/model.py\n",
    "class PositionalEncoding(nn.Module):\n",
    "\tr\"\"\"Inject some information about the relative or absolute position of the tokens in the sequence.\n",
    "\t\tThe positional encodings have the same dimension as the embeddings, so that the two can be summed.\n",
    "\t\tHere, we use sine and cosine functions of different frequencies.\n",
    "\t.. math:\n",
    "\t\t\\text{PosEncoder}(pos, 2i) = sin(pos/10000^(2i/d_model))\n",
    "\t\t\\text{PosEncoder}(pos, 2i+1) = cos(pos/10000^(2i/d_model))\n",
    "\t\t\\text{where pos is the word position and i is the embed idx)\n",
    "\tArgs:\n",
    "\t\td_model: the embed dim (required).\n",
    "\t\tdropout: the dropout value (default=0.1).\n",
    "\t\tmax_len: the max. length of the incoming sequence (default=5000).\n",
    "\tExamples:\n",
    "\t\t>>> pos_encoder = PositionalEncoding(d_model)\n",
    "\t\"\"\"\n",
    "\n",
    "\tdef __init__(self, d_model, dropout=0.1, max_len=5000):\n",
    "\t\tsuper(PositionalEncoding, self).__init__()\n",
    "\t\tself.dropout = nn.Dropout(p=dropout)\n",
    "\n",
    "\t\tpe = torch.zeros(max_len, d_model)\n",
    "\t\tposition = torch.arange(0, max_len, dtype=torch.float).unsqueeze(1)\n",
    "\t\tdiv_term = torch.exp(torch.arange(0, d_model, 2).float() * (-math.log(10000.0) / d_model))\n",
    "\t\tpe[:, 0::2] = torch.sin(position * div_term)\n",
    "\t\tpe[:, 1::2] = torch.cos(position * div_term)\n",
    "\t\tpe = pe.unsqueeze(0).transpose(0, 1)\n",
    "\t\tself.register_buffer('pe', pe)\n",
    "\n",
    "\tdef forward(self, x):\n",
    "\t\tr\"\"\"Inputs of forward function\n",
    "\t\tArgs:\n",
    "\t\t\tx: the sequence fed to the positional encoder model (required).\n",
    "\t\tShape:\n",
    "\t\t\tx: [sequence length, batch size, embed dim]\n",
    "\t\t\toutput: [sequence length, batch size, embed dim]\n",
    "\t\tExamples:\n",
    "\t\t\t>>> output = pos_encoder(x)\n",
    "\t\t\"\"\"\n",
    "\n",
    "\t\tx = x + self.pe[:x.size(0), :]\n",
    "\t\treturn self.dropout(x)\n",
    "\n",
    "\n",
    "class Classifier(nn.Module):\n",
    "\tdef __init__(self, word_embed_size = 512, att_heads = 8, ff_dim = 2048, enc_stack = 6):\n",
    "\t\tsuper(Classifier, self).__init__()\n",
    "\t\tself.embedding = nn.Embedding(35000, word_embed_size)\n",
    "\t\tself.positional = PositionalEncoding(word_embed_size)\n",
    "\t\tself.d_model = word_embed_size\n",
    "\n",
    "\t\tself.encoder_layer = nn.TransformerEncoderLayer(\n",
    "\t\t\td_model = word_embed_size,\n",
    "\t\t\tnhead = att_heads,\n",
    "\t\t\tdim_feedforward = ff_dim,\n",
    "\t\t\tbatch_first = True\n",
    "\t\t)\n",
    "\t\tself.encoder = nn.TransformerEncoder(self.encoder_layer, enc_stack)\n",
    "\n",
    "\t\t# classifier\n",
    "\t\tself.linear1 = nn.Linear(word_embed_size, NUM_OUTPUTS)\n",
    "\t\n",
    "\tdef forward(self, input, src_mask = None):\n",
    "\t\tout = self.embedding(input) * math.sqrt(self.d_model)\n",
    "\t\tout = self.positional(out)\n",
    "\t\t\n",
    "\t\tout = self.encoder(out, src_key_padding_mask = src_mask)\n",
    "\t\tout = torch.mean(out, dim=1)\n",
    "\t\t# out = out[:, 0, :].squeeze(1)\n",
    "\t\tout = torch.softmax(self.linear1(out), dim=-1)\n",
    "\n",
    "\t\treturn out\n"
   ]
  },
  {
   "cell_type": "markdown",
   "metadata": {},
   "source": [
    "### Training"
   ]
  },
  {
   "cell_type": "code",
   "execution_count": 7,
   "metadata": {},
   "outputs": [],
   "source": [
    "model = Classifier().to(device)\n",
    "loss_fn = torch.nn.CrossEntropyLoss()\n",
    "optimizer = torch.optim.Adam(model.parameters(), lr = 1e-5) # learning rate need to be low enough"
   ]
  },
  {
   "cell_type": "code",
   "execution_count": 8,
   "metadata": {},
   "outputs": [
    {
     "name": "stderr",
     "output_type": "stream",
     "text": [
      "Epoch 1/50: 100%|████████████████| 204/204 [02:24<00:00,  1.42batch/s, accuracy=0.2537, loss=1.5940]\n",
      "Test: 100%|██████████████| 16/16 [00:04<00:00,  3.39batch/s, accuracy=0.2773, loss=1.7177]\n",
      "Epoch 2/50: 100%|████████████████| 204/204 [02:23<00:00,  1.42batch/s, accuracy=0.3271, loss=1.5434]\n",
      "Test: 100%|██████████████| 16/16 [00:04<00:00,  3.39batch/s, accuracy=0.3565, loss=1.6622]\n",
      "Epoch 3/50: 100%|████████████████| 204/204 [02:23<00:00,  1.42batch/s, accuracy=0.4017, loss=1.4809]\n",
      "Test: 100%|██████████████| 16/16 [00:04<00:00,  3.39batch/s, accuracy=0.4293, loss=1.5997]\n",
      "Epoch 4/50: 100%|████████████████| 204/204 [02:23<00:00,  1.42batch/s, accuracy=0.4291, loss=1.4542]\n",
      "Test: 100%|██████████████| 16/16 [00:04<00:00,  3.40batch/s, accuracy=0.4642, loss=1.5676]\n",
      "Epoch 5/50: 100%|████████████████| 204/204 [02:23<00:00,  1.42batch/s, accuracy=0.4513, loss=1.4368]\n",
      "Test: 100%|██████████████| 16/16 [00:04<00:00,  3.39batch/s, accuracy=0.4884, loss=1.5489]\n",
      "Epoch 6/50: 100%|████████████████| 204/204 [02:23<00:00,  1.42batch/s, accuracy=0.4674, loss=1.4218]\n",
      "Test: 100%|██████████████| 16/16 [00:04<00:00,  3.39batch/s, accuracy=0.4979, loss=1.5365]\n",
      "Epoch 7/50: 100%|████████████████| 204/204 [02:23<00:00,  1.42batch/s, accuracy=0.4756, loss=1.4188]\n",
      "Test: 100%|██████████████| 16/16 [00:04<00:00,  3.40batch/s, accuracy=0.5092, loss=1.5309]\n",
      "Epoch 8/50: 100%|████████████████| 204/204 [02:23<00:00,  1.42batch/s, accuracy=0.4917, loss=1.3980]\n",
      "Test: 100%|██████████████| 16/16 [00:04<00:00,  3.39batch/s, accuracy=0.5231, loss=1.5136]\n",
      "Epoch 9/50:  88%|██████████████  | 180/204 [02:08<00:17,  1.40batch/s, accuracy=0.5043, loss=1.3904]\n"
     ]
    },
    {
     "ename": "KeyboardInterrupt",
     "evalue": "",
     "output_type": "error",
     "traceback": [
      "\u001b[0;31m---------------------------------------------------------------------------\u001b[0m",
      "\u001b[0;31mKeyboardInterrupt\u001b[0m                         Traceback (most recent call last)",
      "Cell \u001b[0;32mIn[8], line 20\u001b[0m\n\u001b[1;32m     18\u001b[0m outputs \u001b[38;5;241m=\u001b[39m model(input_ids, mask)\n\u001b[1;32m     19\u001b[0m loss \u001b[38;5;241m=\u001b[39m loss_fn(outputs, label)\n\u001b[0;32m---> 20\u001b[0m \u001b[43mloss\u001b[49m\u001b[38;5;241;43m.\u001b[39;49m\u001b[43mbackward\u001b[49m\u001b[43m(\u001b[49m\u001b[43m)\u001b[49m\n\u001b[1;32m     21\u001b[0m optimizer\u001b[38;5;241m.\u001b[39mstep()\n\u001b[1;32m     23\u001b[0m running_loss \u001b[38;5;241m+\u001b[39m\u001b[38;5;241m=\u001b[39m loss\u001b[38;5;241m.\u001b[39mitem()\n",
      "File \u001b[0;32m~/Documents/repos/PyTransformers/.venv/lib64/python3.11/site-packages/torch/_tensor.py:522\u001b[0m, in \u001b[0;36mTensor.backward\u001b[0;34m(self, gradient, retain_graph, create_graph, inputs)\u001b[0m\n\u001b[1;32m    512\u001b[0m \u001b[38;5;28;01mif\u001b[39;00m has_torch_function_unary(\u001b[38;5;28mself\u001b[39m):\n\u001b[1;32m    513\u001b[0m     \u001b[38;5;28;01mreturn\u001b[39;00m handle_torch_function(\n\u001b[1;32m    514\u001b[0m         Tensor\u001b[38;5;241m.\u001b[39mbackward,\n\u001b[1;32m    515\u001b[0m         (\u001b[38;5;28mself\u001b[39m,),\n\u001b[0;32m   (...)\u001b[0m\n\u001b[1;32m    520\u001b[0m         inputs\u001b[38;5;241m=\u001b[39minputs,\n\u001b[1;32m    521\u001b[0m     )\n\u001b[0;32m--> 522\u001b[0m \u001b[43mtorch\u001b[49m\u001b[38;5;241;43m.\u001b[39;49m\u001b[43mautograd\u001b[49m\u001b[38;5;241;43m.\u001b[39;49m\u001b[43mbackward\u001b[49m\u001b[43m(\u001b[49m\n\u001b[1;32m    523\u001b[0m \u001b[43m    \u001b[49m\u001b[38;5;28;43mself\u001b[39;49m\u001b[43m,\u001b[49m\u001b[43m \u001b[49m\u001b[43mgradient\u001b[49m\u001b[43m,\u001b[49m\u001b[43m \u001b[49m\u001b[43mretain_graph\u001b[49m\u001b[43m,\u001b[49m\u001b[43m \u001b[49m\u001b[43mcreate_graph\u001b[49m\u001b[43m,\u001b[49m\u001b[43m \u001b[49m\u001b[43minputs\u001b[49m\u001b[38;5;241;43m=\u001b[39;49m\u001b[43minputs\u001b[49m\n\u001b[1;32m    524\u001b[0m \u001b[43m\u001b[49m\u001b[43m)\u001b[49m\n",
      "File \u001b[0;32m~/Documents/repos/PyTransformers/.venv/lib64/python3.11/site-packages/torch/autograd/__init__.py:288\u001b[0m, in \u001b[0;36mbackward\u001b[0;34m(tensors, grad_tensors, retain_graph, create_graph, grad_variables, inputs)\u001b[0m\n\u001b[1;32m    283\u001b[0m     retain_graph \u001b[38;5;241m=\u001b[39m create_graph\n\u001b[1;32m    285\u001b[0m \u001b[38;5;66;03m# The reason we repeat the same comment below is that\u001b[39;00m\n\u001b[1;32m    286\u001b[0m \u001b[38;5;66;03m# some Python versions print out the first line of a multi-line function\u001b[39;00m\n\u001b[1;32m    287\u001b[0m \u001b[38;5;66;03m# calls in the traceback and some print out the last line\u001b[39;00m\n\u001b[0;32m--> 288\u001b[0m \u001b[43m_engine_run_backward\u001b[49m\u001b[43m(\u001b[49m\n\u001b[1;32m    289\u001b[0m \u001b[43m    \u001b[49m\u001b[43mtensors\u001b[49m\u001b[43m,\u001b[49m\n\u001b[1;32m    290\u001b[0m \u001b[43m    \u001b[49m\u001b[43mgrad_tensors_\u001b[49m\u001b[43m,\u001b[49m\n\u001b[1;32m    291\u001b[0m \u001b[43m    \u001b[49m\u001b[43mretain_graph\u001b[49m\u001b[43m,\u001b[49m\n\u001b[1;32m    292\u001b[0m \u001b[43m    \u001b[49m\u001b[43mcreate_graph\u001b[49m\u001b[43m,\u001b[49m\n\u001b[1;32m    293\u001b[0m \u001b[43m    \u001b[49m\u001b[43minputs\u001b[49m\u001b[43m,\u001b[49m\n\u001b[1;32m    294\u001b[0m \u001b[43m    \u001b[49m\u001b[43mallow_unreachable\u001b[49m\u001b[38;5;241;43m=\u001b[39;49m\u001b[38;5;28;43;01mTrue\u001b[39;49;00m\u001b[43m,\u001b[49m\n\u001b[1;32m    295\u001b[0m \u001b[43m    \u001b[49m\u001b[43maccumulate_grad\u001b[49m\u001b[38;5;241;43m=\u001b[39;49m\u001b[38;5;28;43;01mTrue\u001b[39;49;00m\u001b[43m,\u001b[49m\n\u001b[1;32m    296\u001b[0m \u001b[43m\u001b[49m\u001b[43m)\u001b[49m\n",
      "File \u001b[0;32m~/Documents/repos/PyTransformers/.venv/lib64/python3.11/site-packages/torch/autograd/graph.py:768\u001b[0m, in \u001b[0;36m_engine_run_backward\u001b[0;34m(t_outputs, *args, **kwargs)\u001b[0m\n\u001b[1;32m    766\u001b[0m     unregister_hooks \u001b[38;5;241m=\u001b[39m _register_logging_hooks_on_whole_graph(t_outputs)\n\u001b[1;32m    767\u001b[0m \u001b[38;5;28;01mtry\u001b[39;00m:\n\u001b[0;32m--> 768\u001b[0m     \u001b[38;5;28;01mreturn\u001b[39;00m \u001b[43mVariable\u001b[49m\u001b[38;5;241;43m.\u001b[39;49m\u001b[43m_execution_engine\u001b[49m\u001b[38;5;241;43m.\u001b[39;49m\u001b[43mrun_backward\u001b[49m\u001b[43m(\u001b[49m\u001b[43m  \u001b[49m\u001b[38;5;66;43;03m# Calls into the C++ engine to run the backward pass\u001b[39;49;00m\n\u001b[1;32m    769\u001b[0m \u001b[43m        \u001b[49m\u001b[43mt_outputs\u001b[49m\u001b[43m,\u001b[49m\u001b[43m \u001b[49m\u001b[38;5;241;43m*\u001b[39;49m\u001b[43margs\u001b[49m\u001b[43m,\u001b[49m\u001b[43m \u001b[49m\u001b[38;5;241;43m*\u001b[39;49m\u001b[38;5;241;43m*\u001b[39;49m\u001b[43mkwargs\u001b[49m\n\u001b[1;32m    770\u001b[0m \u001b[43m    \u001b[49m\u001b[43m)\u001b[49m  \u001b[38;5;66;03m# Calls into the C++ engine to run the backward pass\u001b[39;00m\n\u001b[1;32m    771\u001b[0m \u001b[38;5;28;01mfinally\u001b[39;00m:\n\u001b[1;32m    772\u001b[0m     \u001b[38;5;28;01mif\u001b[39;00m attach_logging_hooks:\n",
      "\u001b[0;31mKeyboardInterrupt\u001b[0m: "
     ]
    }
   ],
   "source": [
    "losses = list()\n",
    "accuracy = list()\n",
    "\n",
    "for epoch in range(NUM_EPOCHS):\n",
    "\n",
    "\twith tqdm(total=len(train_dataloader), desc=f'Epoch {epoch+1}/{NUM_EPOCHS}', unit='batch', ncols=110) as pbar:\n",
    "\n",
    "\t\trunning_loss = 0.0\n",
    "\t\trunning_acc = 0.0\n",
    "\n",
    "\t\tfor i, batch in enumerate(train_dataloader):\n",
    "\t\t\tinput_ids = batch['input_ids'].to(device)\n",
    "\t\t\tmask = batch['attention_mask'].to(device)\n",
    "\t\t\tlabel = batch['label'].to(device)\n",
    "\n",
    "\t\t\toptimizer.zero_grad()\n",
    "\n",
    "\t\t\toutputs = model(input_ids, mask)\n",
    "\t\t\tloss = loss_fn(outputs, label)\n",
    "\t\t\tloss.backward()\n",
    "\t\t\toptimizer.step()\n",
    "\n",
    "\t\t\trunning_loss += loss.item()\n",
    "\t\t\t_, pred = outputs.topk(1, dim=1)\n",
    "\t\t\trunning_acc += accuracy_score(label.cpu(), pred.cpu().flatten())\n",
    "\t\t\tpbar.set_postfix(loss=f'{running_loss/((i+1)):.4f}',\n",
    "\t\t\t\t\taccuracy=f'{running_acc/((i+1)):.4f}')\n",
    "\t\t\tpbar.update()\n",
    "\t\t\n",
    "\t\tlosses.append(running_loss/len(train_dataloader))\n",
    "\t\taccuracy.append(running_acc/len(train_dataloader))\n",
    "\n",
    "\twith tqdm(total=len(test_dataloader), desc=f'Test', unit='batch', ncols=90) as pbar:\n",
    "\n",
    "\t\ttest_running_loss = 0.0\n",
    "\t\ttest_running_acc = 0.0\n",
    "\n",
    "\t\twith torch.no_grad():\n",
    "\t\t\tfor batch in test_dataloader:\n",
    "\t\t\t\tinput_ids = batch['input_ids'].to(device)\n",
    "\t\t\t\tmask = batch['attention_mask'].to(device)\n",
    "\t\t\t\tlabel = batch['label'].to(device)\n",
    "\n",
    "\t\t\t\toutputs = model(input_ids, mask)\n",
    "\t\t\t\tloss = loss_fn(outputs, label)\n",
    "\t\t\t\trunning_loss += loss.item()\n",
    "\t\t\t\t_, pred = outputs.topk(1, dim=1)\n",
    "\t\t\t\trunning_acc += accuracy_score(label.cpu(), pred.cpu().flatten())\n",
    "\t\t\t\tpbar.set_postfix(loss=f'{running_loss/((i+1)):.4f}',\n",
    "\t\t\t\t\taccuracy=f'{running_acc/((i+1)):.4f}')\n",
    "\t\t\t\tpbar.update()\n",
    "\t\n",
    "print('\\nFinished Training')"
   ]
  },
  {
   "cell_type": "code",
   "execution_count": null,
   "metadata": {},
   "outputs": [],
   "source": [
    "torch.save(model.state.dict(), \"model_weights.pth\")"
   ]
  },
  {
   "cell_type": "markdown",
   "metadata": {},
   "source": [
    "#### Resources\n",
    "https://n8henrie.com/2021/08/writing-a-transformer-classifier-in-pytorch/"
   ]
  }
 ],
 "metadata": {
  "kernelspec": {
   "display_name": ".venv",
   "language": "python",
   "name": "python3"
  },
  "language_info": {
   "codemirror_mode": {
    "name": "ipython",
    "version": 3
   },
   "file_extension": ".py",
   "mimetype": "text/x-python",
   "name": "python",
   "nbconvert_exporter": "python",
   "pygments_lexer": "ipython3",
   "version": "3.11.10"
  }
 },
 "nbformat": 4,
 "nbformat_minor": 2
}
