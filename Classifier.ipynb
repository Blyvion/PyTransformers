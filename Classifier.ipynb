{
 "cells": [
  {
   "cell_type": "code",
   "execution_count": 1,
   "metadata": {},
   "outputs": [
    {
     "name": "stderr",
     "output_type": "stream",
     "text": [
      "/home/atleserver/Documents/repos/PyTransformers/.venv/lib64/python3.11/site-packages/tqdm/auto.py:21: TqdmWarning: IProgress not found. Please update jupyter and ipywidgets. See https://ipywidgets.readthedocs.io/en/stable/user_install.html\n",
      "  from .autonotebook import tqdm as notebook_tqdm\n"
     ]
    }
   ],
   "source": [
    "import torch\n",
    "import torch.nn as nn\n",
    "import math\n",
    "import numpy as np\n",
    "from tqdm import tqdm\n",
    "from datasets import load_dataset\n",
    "from torch.utils.data import DataLoader, Dataset\n",
    "from transformers import AutoTokenizer\n",
    "from sklearn.metrics import accuracy_score"
   ]
  },
  {
   "cell_type": "code",
   "execution_count": 2,
   "metadata": {},
   "outputs": [],
   "source": [
    "BATCH_SIZE = 32\n",
    "MAX_SEQ_LEN = 256\n",
    "NUM_EPOCHS = 50\n",
    "NUM_OUTPUTS = 5\n",
    "\n",
    "device = torch.device('cuda' if torch.cuda.is_available() else 'cpu')\n",
    "tokenizer = AutoTokenizer.from_pretrained(\"bert-base-uncased\")"
   ]
  },
  {
   "cell_type": "markdown",
   "metadata": {},
   "source": [
    "### Data"
   ]
  },
  {
   "cell_type": "code",
   "execution_count": 3,
   "metadata": {},
   "outputs": [
    {
     "data": {
      "text/plain": [
       "DatasetDict({\n",
       "    train: Dataset({\n",
       "        features: ['label', 'text'],\n",
       "        num_rows: 650000\n",
       "    })\n",
       "    test: Dataset({\n",
       "        features: ['label', 'text'],\n",
       "        num_rows: 50000\n",
       "    })\n",
       "})"
      ]
     },
     "execution_count": 3,
     "metadata": {},
     "output_type": "execute_result"
    }
   ],
   "source": [
    "ds = load_dataset(\"Yelp/yelp_review_full\")\n",
    "ds"
   ]
  },
  {
   "cell_type": "code",
   "execution_count": 4,
   "metadata": {},
   "outputs": [],
   "source": [
    "def collate_fn(batch):\n",
    "\t# batch is a list of dictionaries\n",
    "\ttext = [record['text'] for record in batch]\n",
    "\tlabel = [record['label'] for record in batch]\n",
    "\n",
    "\tinputs = tokenizer(text,\n",
    "\t\t\t\t\t\t  padding = \"max_length\",\n",
    "\t\t\t\t\t\t  truncation = True,\n",
    "\t\t\t\t\t\t  max_length = MAX_SEQ_LEN,\n",
    "\t\t\t\t\t\t  return_tensors = \"pt\")\n",
    "\n",
    "\treturn {'input_ids': inputs['input_ids'], 'attention_mask': torch.log(inputs['attention_mask']), 'label': torch.tensor(label)}\n"
   ]
  },
  {
   "cell_type": "code",
   "execution_count": 5,
   "metadata": {},
   "outputs": [],
   "source": [
    "SPLITS = 100\n",
    "train_dataloader = DataLoader(ds['train'].shard(SPLITS, 0), batch_size=BATCH_SIZE, shuffle=True, collate_fn=collate_fn)\n",
    "test_dataloader = DataLoader(ds['test'].shard(SPLITS, 0), batch_size=BATCH_SIZE, shuffle=True, collate_fn=collate_fn)"
   ]
  },
  {
   "cell_type": "markdown",
   "metadata": {},
   "source": [
    "### Encoder Only Transformer"
   ]
  },
  {
   "cell_type": "code",
   "execution_count": 6,
   "metadata": {},
   "outputs": [],
   "source": [
    "# https://github.com/pytorch/examples/blob/main/word_language_model/model.py\n",
    "class PositionalEncoding(nn.Module):\n",
    "\tr\"\"\"Inject some information about the relative or absolute position of the tokens in the sequence.\n",
    "\t\tThe positional encodings have the same dimension as the embeddings, so that the two can be summed.\n",
    "\t\tHere, we use sine and cosine functions of different frequencies.\n",
    "\t.. math:\n",
    "\t\t\\text{PosEncoder}(pos, 2i) = sin(pos/10000^(2i/d_model))\n",
    "\t\t\\text{PosEncoder}(pos, 2i+1) = cos(pos/10000^(2i/d_model))\n",
    "\t\t\\text{where pos is the word position and i is the embed idx)\n",
    "\tArgs:\n",
    "\t\td_model: the embed dim (required).\n",
    "\t\tdropout: the dropout value (default=0.1).\n",
    "\t\tmax_len: the max. length of the incoming sequence (default=5000).\n",
    "\tExamples:\n",
    "\t\t>>> pos_encoder = PositionalEncoding(d_model)\n",
    "\t\"\"\"\n",
    "\n",
    "\tdef __init__(self, d_model, dropout=0.1, max_len=5000):\n",
    "\t\tsuper(PositionalEncoding, self).__init__()\n",
    "\t\tself.dropout = nn.Dropout(p=dropout)\n",
    "\n",
    "\t\tpe = torch.zeros(max_len, d_model)\n",
    "\t\tposition = torch.arange(0, max_len, dtype=torch.float).unsqueeze(1)\n",
    "\t\tdiv_term = torch.exp(torch.arange(0, d_model, 2).float() * (-math.log(10000.0) / d_model))\n",
    "\t\tpe[:, 0::2] = torch.sin(position * div_term)\n",
    "\t\tpe[:, 1::2] = torch.cos(position * div_term)\n",
    "\t\tpe = pe.unsqueeze(0).transpose(0, 1)\n",
    "\t\tself.register_buffer('pe', pe)\n",
    "\n",
    "\tdef forward(self, x):\n",
    "\t\tr\"\"\"Inputs of forward function\n",
    "\t\tArgs:\n",
    "\t\t\tx: the sequence fed to the positional encoder model (required).\n",
    "\t\tShape:\n",
    "\t\t\tx: [sequence length, batch size, embed dim]\n",
    "\t\t\toutput: [sequence length, batch size, embed dim]\n",
    "\t\tExamples:\n",
    "\t\t\t>>> output = pos_encoder(x)\n",
    "\t\t\"\"\"\n",
    "\n",
    "\t\tx = x + self.pe[:x.size(0), :]\n",
    "\t\treturn self.dropout(x)\n",
    "\n",
    "\n",
    "class Classifier(nn.Module):\n",
    "\tdef __init__(self, word_embed_size = 512, att_heads = 8, ff_dim = 2048, enc_stack = 6):\n",
    "\t\tsuper(Classifier, self).__init__()\n",
    "\t\tself.embedding = nn.Embedding(35000, word_embed_size)\n",
    "\t\tself.positional = PositionalEncoding(word_embed_size)\n",
    "\t\tself.d_model = word_embed_size\n",
    "\n",
    "\t\tself.encoder_layer = nn.TransformerEncoderLayer(\n",
    "\t\t\td_model = word_embed_size,\n",
    "\t\t\tnhead = att_heads,\n",
    "\t\t\tdim_feedforward = ff_dim,\n",
    "\t\t\tbatch_first = True\n",
    "\t\t)\n",
    "\t\tself.encoder = nn.TransformerEncoder(self.encoder_layer, enc_stack)\n",
    "\n",
    "\t\t# classifier\n",
    "\t\tself.linear1 = nn.Linear(word_embed_size, NUM_OUTPUTS)\n",
    "\t\n",
    "\tdef forward(self, input, src_mask = None):\n",
    "\t\tout = self.embedding(input) * math.sqrt(self.d_model)\n",
    "\t\tout = self.positional(out)\n",
    "\t\t\n",
    "\t\tout = self.encoder(out, src_key_padding_mask = src_mask)\n",
    "\t\tout = torch.mean(out, dim=1)\n",
    "\t\t# out = out[:, 0, :].squeeze(1)\n",
    "\t\tout = torch.softmax(self.linear1(out), dim=-1)\n",
    "\n",
    "\t\treturn out\n"
   ]
  },
  {
   "cell_type": "markdown",
   "metadata": {},
   "source": [
    "### Training"
   ]
  },
  {
   "cell_type": "code",
   "execution_count": 7,
   "metadata": {},
   "outputs": [],
   "source": [
    "model = Classifier().to(device)\n",
    "loss_fn = torch.nn.CrossEntropyLoss()\n",
    "optimizer = torch.optim.Adam(model.parameters(), lr = 1e-5) # learning rate need to be low enough"
   ]
  },
  {
   "cell_type": "code",
   "execution_count": null,
   "metadata": {},
   "outputs": [
    {
     "name": "stderr",
     "output_type": "stream",
     "text": [
      "Epoch 1/50: 100%|████████████████| 204/204 [02:24<00:00,  1.42batch/s, accuracy=0.2537, loss=1.5940]\n",
      "Test: 100%|██████████████| 16/16 [00:04<00:00,  3.39batch/s, accuracy=0.2773, loss=1.7177]\n",
      "Epoch 2/50: 100%|████████████████| 204/204 [02:23<00:00,  1.42batch/s, accuracy=0.3271, loss=1.5434]\n",
      "Test: 100%|██████████████| 16/16 [00:04<00:00,  3.39batch/s, accuracy=0.3565, loss=1.6622]\n",
      "Epoch 3/50: 100%|████████████████| 204/204 [02:23<00:00,  1.42batch/s, accuracy=0.4017, loss=1.4809]\n",
      "Test: 100%|██████████████| 16/16 [00:04<00:00,  3.39batch/s, accuracy=0.4293, loss=1.5997]\n",
      "Epoch 4/50: 100%|████████████████| 204/204 [02:23<00:00,  1.42batch/s, accuracy=0.4291, loss=1.4542]\n",
      "Test: 100%|██████████████| 16/16 [00:04<00:00,  3.40batch/s, accuracy=0.4642, loss=1.5676]\n",
      "Epoch 5/50: 100%|████████████████| 204/204 [02:23<00:00,  1.42batch/s, accuracy=0.4513, loss=1.4368]\n",
      "Test: 100%|██████████████| 16/16 [00:04<00:00,  3.39batch/s, accuracy=0.4884, loss=1.5489]\n",
      "Epoch 6/50: 100%|████████████████| 204/204 [02:23<00:00,  1.42batch/s, accuracy=0.4674, loss=1.4218]\n",
      "Test: 100%|██████████████| 16/16 [00:04<00:00,  3.39batch/s, accuracy=0.4979, loss=1.5365]\n",
      "Epoch 7/50: 100%|████████████████| 204/204 [02:23<00:00,  1.42batch/s, accuracy=0.4756, loss=1.4188]\n",
      "Test: 100%|██████████████| 16/16 [00:04<00:00,  3.40batch/s, accuracy=0.5092, loss=1.5309]\n",
      "Epoch 8/50: 100%|████████████████| 204/204 [02:23<00:00,  1.42batch/s, accuracy=0.4917, loss=1.3980]\n",
      "Test: 100%|██████████████| 16/16 [00:04<00:00,  3.39batch/s, accuracy=0.5231, loss=1.5136]\n",
      "Epoch 9/50:  41%|███████          | 84/204 [00:59<01:24,  1.41batch/s, accuracy=0.5000, loss=1.3944]"
     ]
    }
   ],
   "source": [
    "losses = list()\n",
    "accuracy = list()\n",
    "\n",
    "for epoch in range(NUM_EPOCHS):\n",
    "\n",
    "\twith tqdm(total=len(train_dataloader), desc=f'Epoch {epoch+1}/{NUM_EPOCHS}', unit='batch', ncols=110) as pbar:\n",
    "\n",
    "\t\trunning_loss = 0.0\n",
    "\t\trunning_acc = 0.0\n",
    "\n",
    "\t\tfor i, batch in enumerate(train_dataloader):\n",
    "\t\t\tinput_ids = batch['input_ids'].to(device)\n",
    "\t\t\tmask = batch['attention_mask'].to(device)\n",
    "\t\t\tlabel = batch['label'].to(device)\n",
    "\n",
    "\t\t\toptimizer.zero_grad()\n",
    "\n",
    "\t\t\toutputs = model(input_ids, mask)\n",
    "\t\t\tloss = loss_fn(outputs, label)\n",
    "\t\t\tloss.backward()\n",
    "\t\t\toptimizer.step()\n",
    "\n",
    "\t\t\trunning_loss += loss.item()\n",
    "\t\t\t_, pred = outputs.topk(1, dim=1)\n",
    "\t\t\trunning_acc += accuracy_score(label.cpu(), pred.cpu().flatten())\n",
    "\t\t\tpbar.set_postfix(loss=f'{running_loss/((i+1)):.4f}',\n",
    "\t\t\t\t\taccuracy=f'{running_acc/((i+1)):.4f}')\n",
    "\t\t\tpbar.update()\n",
    "\t\t\n",
    "\t\tlosses.append(running_loss/len(train_dataloader))\n",
    "\t\taccuracy.append(running_acc/len(train_dataloader))\n",
    "\n",
    "\twith tqdm(total=len(test_dataloader), desc=f'Test', unit='batch', ncols=90) as pbar:\n",
    "\n",
    "\t\ttest_running_loss = 0.0\n",
    "\t\ttest_running_acc = 0.0\n",
    "\n",
    "\t\twith torch.no_grad():\n",
    "\t\t\tfor batch in test_dataloader:\n",
    "\t\t\t\tinput_ids = batch['input_ids'].to(device)\n",
    "\t\t\t\tmask = batch['attention_mask'].to(device)\n",
    "\t\t\t\tlabel = batch['label'].to(device)\n",
    "\n",
    "\t\t\t\toutputs = model(input_ids, mask)\n",
    "\t\t\t\tloss = loss_fn(outputs, label)\n",
    "\t\t\t\trunning_loss += loss.item()\n",
    "\t\t\t\t_, pred = outputs.topk(1, dim=1)\n",
    "\t\t\t\trunning_acc += accuracy_score(label.cpu(), pred.cpu().flatten())\n",
    "\t\t\t\tpbar.set_postfix(loss=f'{running_loss/((i+1)):.4f}',\n",
    "\t\t\t\t\taccuracy=f'{running_acc/((i+1)):.4f}')\n",
    "\t\t\t\tpbar.update()\n",
    "\t\n",
    "print('\\nFinished Training')"
   ]
  },
  {
   "cell_type": "code",
   "execution_count": null,
   "metadata": {},
   "outputs": [],
   "source": [
    "torch.save(model.state.dict(), \"model_weights.pth\")"
   ]
  },
  {
   "cell_type": "markdown",
   "metadata": {},
   "source": [
    "#### Resources\n",
    "https://n8henrie.com/2021/08/writing-a-transformer-classifier-in-pytorch/"
   ]
  }
 ],
 "metadata": {
  "kernelspec": {
   "display_name": ".venv",
   "language": "python",
   "name": "python3"
  },
  "language_info": {
   "codemirror_mode": {
    "name": "ipython",
    "version": 3
   },
   "file_extension": ".py",
   "mimetype": "text/x-python",
   "name": "python",
   "nbconvert_exporter": "python",
   "pygments_lexer": "ipython3",
   "version": "3.11.10"
  }
 },
 "nbformat": 4,
 "nbformat_minor": 2
}
