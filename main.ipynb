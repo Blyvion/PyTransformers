{
 "cells": [
  {
   "cell_type": "code",
   "execution_count": null,
   "metadata": {},
   "outputs": [],
   "source": [
    "import torch\n",
    "import torch.nn as nn\n",
    "import math\n",
    "import numpy as np\n",
    "from tqdm import tqdm\n",
    "from datasets import load_dataset\n",
    "from torch.utils.data import DataLoader, Dataset\n",
    "from transformers import AutoTokenizer"
   ]
  },
  {
   "cell_type": "code",
   "execution_count": null,
   "metadata": {},
   "outputs": [],
   "source": [
    "BATCH_SIZE = 32\n",
    "MAX_SEQ_LEN = 128\n",
    "NUM_EPOCHS = 10\n",
    "\n",
    "device = torch.device('cuda' if torch.cuda.is_available() else 'cpu')\n",
    "tokenizer = AutoTokenizer.from_pretrained(\"bert-base-uncased\")"
   ]
  },
  {
   "cell_type": "markdown",
   "metadata": {},
   "source": [
    "### Data"
   ]
  },
  {
   "cell_type": "code",
   "execution_count": null,
   "metadata": {},
   "outputs": [],
   "source": [
    "class YelpDataset(Dataset):\n",
    "\tdef __init__(self, data, max_length = MAX_SEQ_LEN):\n",
    "\t\tself.data = data\n",
    "\t\tself.tokenizer = tokenizer\n",
    "\t\tself.max_length = max_length\n",
    "\n",
    "\tdef __len__(self):\n",
    "\t\treturn self.data.num_rows\n",
    "\t\n",
    "\tdef __getitem__(self, idx):\n",
    "\t\ttext = self.data['text'][idx]\n",
    "\t\tlabel = self.data['label'][idx]\n",
    "\n",
    "\t\treturn [text, int(label)]\n",
    "\t\n",
    "def collate_fn_bad(batch):\n",
    "\tbatch = np.asarray(batch)\n",
    "\n",
    "\ttext = batch[:, 0]\n",
    "\tlabels = batch[:, 1].astype(int)\n",
    "\t\n",
    "\tinputs = tokenizer(text.tolist(),\n",
    "\t\t\t\t\t\t  padding = \"max_length\",\n",
    "\t\t\t\t\t\t  truncation = True,\n",
    "\t\t\t\t\t\t  max_length = MAX_SEQ_LEN,\n",
    "\t\t\t\t\t\t  return_tensors = \"pt\")\n",
    "\t\t\n",
    "\tinput_ids = inputs['input_ids'].squeeze()\n",
    "\tattention_mask = inputs['attention_mask'].squeeze() # mask pads.\n",
    "\tattention_mask = torch.log(attention_mask)\n",
    "\n",
    "\treturn {'input_ids': input_ids, 'attention_mask': attention_mask, 'label': torch.from_numpy(labels)}\n",
    "\n",
    "def collate_fn(batch):\n",
    "\ttext = [record['text'] for record in batch]\n",
    "\tlabel = [record['label'] for record in batch]\n",
    "\n",
    "\tinputs = tokenizer(text,\n",
    "\t\t\t\t\t\t  padding = \"max_length\",\n",
    "\t\t\t\t\t\t  truncation = True,\n",
    "\t\t\t\t\t\t  max_length = MAX_SEQ_LEN,\n",
    "\t\t\t\t\t\t  return_tensors = \"pt\")\n",
    "\t\n",
    "\tinput_ids = inputs['input_ids'].squeeze()\n",
    "\tattention_mask = inputs['attention_mask'].squeeze() # mask pads.\n",
    "\tattention_mask = torch.log(attention_mask)\n",
    "\n",
    "\treturn {'input_ids': input_ids, 'attention_mask': attention_mask, 'label': torch.tensor(label)}\n"
   ]
  },
  {
   "cell_type": "code",
   "execution_count": null,
   "metadata": {},
   "outputs": [],
   "source": [
    "ds = load_dataset(\"Yelp/yelp_review_full\")\n",
    "\n",
    "# # train_dataset = YelpDataset(ds['train'])\n",
    "# # test_dataset = YelpDataset(ds['test'])\n",
    "train_dataloader = DataLoader(ds['train'], batch_size=BATCH_SIZE, shuffle=True, collate_fn=collate_fn)\n",
    "test_dataloader = DataLoader(ds['test'], batch_size=BATCH_SIZE, shuffle=True, collate_fn=collate_fn)"
   ]
  },
  {
   "cell_type": "markdown",
   "metadata": {},
   "source": [
    "### Encoder Only Transformer"
   ]
  },
  {
   "cell_type": "code",
   "execution_count": null,
   "metadata": {},
   "outputs": [],
   "source": [
    "class PositionalEncoding(nn.Module):\n",
    "    def __init__(self, d_model, max_len=512):\n",
    "        super(PositionalEncoding, self).__init__()\n",
    "        \n",
    "        # Create a matrix of shape (max_len, d_model) to store the positional encodings\n",
    "        pe = torch.zeros(max_len, d_model)\n",
    "        \n",
    "        # Create a column vector with shape (max_len, 1) containing the positions\n",
    "        position = torch.arange(0, max_len, dtype=torch.float).unsqueeze(1)\n",
    "        \n",
    "        # Create a row vector with shape (1, d_model//2) containing the frequencies\n",
    "        div_term = torch.exp(torch.arange(0, d_model, 2).float() * (-math.log(10000.0) / d_model))\n",
    "        \n",
    "        # Compute the positional encodings and store them in the matrix\n",
    "        pe[:, 0::2] = torch.sin(position * div_term)\n",
    "        pe[:, 1::2] = torch.cos(position * div_term)\n",
    "        \n",
    "        # Add an extra dimension to the positional encoding matrix\n",
    "        pe = pe.unsqueeze(0)  # Shape: (1, max_len, d_model)\n",
    "        \n",
    "        # Register the positional encodings as a buffer, which means it won't be considered a model parameter\n",
    "        self.register_buffer('pe', pe)\n",
    "\n",
    "    def forward(self, x):\n",
    "        # Add the positional encodings to the input tensor\n",
    "        # x has shape (batch_size, seq_len, d_model)\n",
    "        # pe[:, :x.size(1), :] selects the positional encodings up to the length of the input sequence\n",
    "        x = x + self.pe[:, :x.size(1), :]\n",
    "        return x\n"
   ]
  },
  {
   "cell_type": "code",
   "execution_count": null,
   "metadata": {},
   "outputs": [],
   "source": [
    "class Classifier(nn.Module):\n",
    "\tdef __init__(self, word_embed_size = 800, att_heads = 10, ff_dim = 2048, enc_stack = 8):\n",
    "\t\tsuper(Classifier, self).__init__()\n",
    "\t\tself.embedding = nn.Embedding(35000, word_embed_size)\n",
    "\t\tself.positional = PositionalEncoding(word_embed_size)\n",
    "\n",
    "\t\tself.encoder_layer = nn.TransformerEncoderLayer(\n",
    "\t\t\td_model = word_embed_size,\n",
    "\t\t\tnhead = att_heads,\n",
    "\t\t\tdim_feedforward = ff_dim,\n",
    "\t\t\tbatch_first = True\n",
    "\t\t)\n",
    "\t\tself.encoder = nn.TransformerEncoder(self.encoder_layer, enc_stack)\n",
    "\n",
    "\t\t# classifier\n",
    "\t\tself.linear1 = nn.Linear(word_embed_size, word_embed_size)\n",
    "\t\tself.linear2 = nn.Linear(word_embed_size, 5)\n",
    "\t\n",
    "\tdef forward(self, input, src_mask = None):\n",
    "\t\tout = self.embedding(input)\n",
    "\t\tout = self.positional(out)\n",
    "\t\t\n",
    "\t\tout = self.encoder(out, src_key_padding_mask = src_mask)\n",
    "\t\tout = torch.mean(out, dim = 1)\n",
    "\t\tout = torch.relu(self.linear1(out))\n",
    "\t\tout = torch.softmax(self.linear2(out), dim = -1)\n",
    "\n",
    "\t\treturn out\n"
   ]
  },
  {
   "cell_type": "markdown",
   "metadata": {},
   "source": [
    "### Training"
   ]
  },
  {
   "cell_type": "code",
   "execution_count": null,
   "metadata": {},
   "outputs": [],
   "source": [
    "model = Classifier().to(device)\n",
    "loss_fn = torch.nn.CrossEntropyLoss()\n",
    "optimizer = torch.optim.Adam(model.parameters())"
   ]
  },
  {
   "cell_type": "code",
   "execution_count": null,
   "metadata": {},
   "outputs": [],
   "source": [
    "for epoch in range(NUM_EPOCHS):\n",
    "\n",
    "\trunning_loss = 0.0\n",
    "\twith tqdm(total=len(train_dataloader), desc=f'Epoch {epoch+1}/{NUM_EPOCHS}', unit='batch', ncols=100) as pbar:\n",
    "\t\tfor batch in train_dataloader:\n",
    "\t\t\tinput_ids = batch['input_ids'].to(device)\n",
    "\t\t\tmask = batch['attention_mask'].to(device)\n",
    "\t\t\tlabel = batch['label'].to(device)\n",
    "\n",
    "\t\t\toptimizer.zero_grad()\n",
    "\n",
    "\t\t\toutputs = model(input_ids, mask)\n",
    "\t\t\tloss = loss_fn(outputs, label)\n",
    "\t\t\tloss.backward()\n",
    "\t\t\toptimizer.step()\n",
    "\n",
    "\t\t\trunning_loss += loss.item()\n",
    "\t\t\tpbar.set_postfix(loss=f'{running_loss/len(train_dataloader):.4f}')\n",
    "\t\t\tpbar.update(1)\n",
    "\t\n",
    "\t#print(f'\\r {running_loss/len(dataloader)}', end='', flush=True)\n",
    "\n",
    "print('\\nFinished Training')"
   ]
  }
 ],
 "metadata": {
  "kernelspec": {
   "display_name": ".venv",
   "language": "python",
   "name": "python3"
  },
  "language_info": {
   "codemirror_mode": {
    "name": "ipython",
    "version": 3
   },
   "file_extension": ".py",
   "mimetype": "text/x-python",
   "name": "python",
   "nbconvert_exporter": "python",
   "pygments_lexer": "ipython3",
   "version": "3.11.4"
  }
 },
 "nbformat": 4,
 "nbformat_minor": 2
}
