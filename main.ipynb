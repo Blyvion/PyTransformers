{
 "cells": [
  {
   "cell_type": "code",
   "execution_count": 9,
   "metadata": {},
   "outputs": [],
   "source": [
    "import torch\n",
    "import torch.nn as nn\n",
    "from tqdm import tqdm\n",
    "from datasets import load_dataset\n",
    "from torch.utils.data import DataLoader, Dataset\n",
    "from transformers import BertTokenizer"
   ]
  },
  {
   "cell_type": "markdown",
   "metadata": {},
   "source": [
    "### Data"
   ]
  },
  {
   "cell_type": "code",
   "execution_count": 2,
   "metadata": {},
   "outputs": [],
   "source": [
    "class YelpDataset(Dataset):\n",
    "\tdef __init__(self, data, tokenizer, max_length = None):\n",
    "\t\tself.data = data\n",
    "\t\tself.tokenizer = tokenizer\n",
    "\t\tself.max_length = 512\n",
    "\n",
    "\tdef __len__(self):\n",
    "\t\treturn self.data.num_rows\n",
    "\t\n",
    "\tdef __getitem__(self, idx):\n",
    "\t\ttext = self.data['text'][idx]\n",
    "\t\tlabel = self.data['label'][idx]\n",
    "\n",
    "\t\tinputs = self.tokenizer(text,\n",
    "\t\t\t\t\t\t  padding = \"max_length\",\n",
    "\t\t\t\t\t\t  truncation = True,\n",
    "\t\t\t\t\t\t  max_length = self.max_length,\n",
    "\t\t\t\t\t\t  return_tensors = \"pt\")\n",
    "\t\t\n",
    "\t\tinput_ids = inputs['input_ids'].squeeze()\n",
    "\t\tattention_mask = inputs['attention_mask'].squeeze() # mask pads.\n",
    "\t\t\n",
    "\t\treturn {\"input_ids\": input_ids, \"attention_mask\": attention_mask}, label"
   ]
  },
  {
   "cell_type": "code",
   "execution_count": 8,
   "metadata": {},
   "outputs": [],
   "source": [
    "BATCH_SIZE = 32\n",
    "\n",
    "ds = load_dataset(\"Yelp/yelp_review_full\")\n",
    "tokenizer = BertTokenizer.from_pretrained(\"google-bert/bert-base-uncased\")\n",
    "\n",
    "train_dataset = YelpDataset(ds['train'], tokenizer)\n",
    "test_dataset = YelpDataset(ds['test'], tokenizer)\n",
    "train_dataloader = DataLoader(train_dataset, batch_size=BATCH_SIZE, shuffle=True)\n",
    "test_dataloader = DataLoader(test_dataset, batch_size=BATCH_SIZE, shuffle=True)"
   ]
  },
  {
   "cell_type": "markdown",
   "metadata": {},
   "source": [
    "### Encoder Only Transformer"
   ]
  },
  {
   "cell_type": "code",
   "execution_count": null,
   "metadata": {},
   "outputs": [],
   "source": [
    "class Classifier(nn.Module):\n",
    "\tdef __init__(self, word_embed_size = 800, ):\n",
    "\t\tsuper(Classifier, self).__init__()\n",
    "\t\tself.embedding = nn.Embedding(35000, word_embed_size)\n",
    "\n",
    "\t\tself.encoder_layer = nn.TransformerEncoderLayer(\n",
    "\t\t\td_model = word_embed_size,\n",
    "\t\t\t\n",
    "\t\t)"
   ]
  }
 ],
 "metadata": {
  "kernelspec": {
   "display_name": ".venv",
   "language": "python",
   "name": "python3"
  },
  "language_info": {
   "codemirror_mode": {
    "name": "ipython",
    "version": 3
   },
   "file_extension": ".py",
   "mimetype": "text/x-python",
   "name": "python",
   "nbconvert_exporter": "python",
   "pygments_lexer": "ipython3",
   "version": "3.11.9"
  }
 },
 "nbformat": 4,
 "nbformat_minor": 2
}
